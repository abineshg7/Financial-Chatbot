{
 "cells": [
  {
   "cell_type": "code",
   "execution_count": null,
   "id": "c0a2d59c-2f77-4b6a-a5c9-3e05f8da2ffd",
   "metadata": {},
   "outputs": [],
   "source": []
  }
 ],
 "metadata": {
  "kernelspec": {
   "display_name": "",
   "name": ""
  },
  "language_info": {
   "name": ""
  }
 },
 "nbformat": 4,
 "nbformat_minor": 5
}
